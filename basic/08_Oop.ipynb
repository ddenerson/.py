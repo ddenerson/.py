{
 "cells": [
  {
   "cell_type": "markdown",
   "metadata": {},
   "source": [
    "# 1 -  World's Simplest Class \n",
    "\n",
    "Define a class called Vehicle. It should be completely empty\n",
    "(just add a pass statement inside).After the class is defined,create two instances of Vehicle. Save one to a variable called car and another to a variable called boat"
   ]
  },
  {
   "cell_type": "code",
   "execution_count": 2,
   "metadata": {
    "scrolled": true
   },
   "outputs": [],
   "source": [
    "class Vehicle:\n",
    "    pass\n",
    "\n",
    "car  = Vehicle()\n",
    "boat = Vehicle()\n"
   ]
  },
  {
   "cell_type": "markdown",
   "metadata": {},
   "source": [
    "# 2 -  Social Media Comments \n",
    "\n",
    "It's time to define your own class! Suposse we're creating a social\n",
    "network application where users can comment on post and photos.\n",
    "\n",
    "Create a class called Comment. Each comment should have the following attributes:\n",
    "\n",
    "username - the username of the person who created the comment(like \"bluethecat\")\n",
    "\n",
    "text  -The actual comment itself(like \"omg so cute\" or \"hahah\")\n",
    "\n",
    "likes -The number of likes the comment has. Likes should default to 0. \n"
   ]
  },
  {
   "cell_type": "code",
   "execution_count": 4,
   "metadata": {},
   "outputs": [
    {
     "name": "stdout",
     "output_type": "stream",
     "text": [
      "Dener\n",
      "lol you're so silly\n",
      "3\n"
     ]
    }
   ],
   "source": [
    "class Comment:\n",
    "    def __init__(self,username,text,likes=0):\n",
    "        self.username = username\n",
    "        self.text = text\n",
    "        self.likes = likes\n",
    "c = Comment(\"Dener\",\"lol you're so silly\",3)\n",
    "print(c.username)\n",
    "print(c.text)\n",
    "print(c.likes)\n",
    "\n",
    "        "
   ]
  },
  {
   "cell_type": "markdown",
   "metadata": {},
   "source": [
    "# 3 - Bank Account OOP\n",
    "\n",
    "Each BankAccount should an owner, specified when a new BankAcoount\n",
    "is created like BankAccount(\"Charlie\")\n",
    "\n",
    "Each BankAccount should have a balance attribute that always starts out as 0.0\n",
    "\n",
    "Each instance should have a deposit method that accepts a number and \n",
    "adds it to the balance. It should return the new balance.\n",
    "\n",
    "Each instance should have a withdraw method that accepts a number and\n",
    "substracts it from the balance. It should return the new balance."
   ]
  },
  {
   "cell_type": "code",
   "execution_count": 8,
   "metadata": {},
   "outputs": [
    {
     "name": "stdout",
     "output_type": "stream",
     "text": [
      "Darcy\n",
      "0.0\n",
      "--------------------\n",
      "Darcy\n",
      "7.0\n",
      "---------------------\n"
     ]
    }
   ],
   "source": [
    "class BankAccount:\n",
    "    def __init__(self,owner,balance=0.0):\n",
    "        self.owner = owner\n",
    "        self.balance = balance\n",
    "    def deposit(self,amount):\n",
    "        self.balance += amount\n",
    "    def withdraw(self,amount):\n",
    "        self.balance -= amount\n",
    "        \n",
    "        \n",
    "        \n",
    "acct = BankAccount(\"Darcy\")\n",
    "print(acct.owner)\n",
    "print(acct.balance)\n",
    "print(\"--------------------\")\n",
    "print(acct.owner)\n",
    "acct.deposit(10)\n",
    "acct.withdraw(3)\n",
    "print(acct.balance)\n",
    "print(\"---------------------\")"
   ]
  },
  {
   "cell_type": "markdown",
   "metadata": {},
   "source": [
    "# 4 - Chicken Coop\n",
    " Suppose we have a big ol chicken oop in our backyard full of very productive hens. We're going to model oour chickens with python!\n",
    "We want to keep track of how many eggs each individual Chicken lays,\n",
    "and at the same time we want to track the total number of eggs all \n",
    "hens have laid\n",
    "\n",
    "Create a Chicken class. Each Chicken has a species and a name, as well \n",
    "as an integer attribute called eggs.\n",
    "Eggs should always start out at 0.\n",
    "\n",
    "\n",
    "Each Chicken should also have an instance method called lay_egg() which should increment and then return that particular Chicken's eggs\n",
    "attribute.\n",
    "lay_egg() should also increment a class variable called total_eggs"
   ]
  },
  {
   "cell_type": "code",
   "execution_count": 4,
   "metadata": {},
   "outputs": [
    {
     "data": {
      "text/plain": [
       "3"
      ]
     },
     "execution_count": 4,
     "metadata": {},
     "output_type": "execute_result"
    }
   ],
   "source": [
    "class Chicken:\n",
    "    total_eggs = 0\n",
    "    def __init__(self,species,name,eggs=0):\n",
    "        self.species = species\n",
    "        self.name    = name\n",
    "        self.eggs    = eggs\n",
    "    def lay_egg(self):\n",
    "        self.eggs += 1\n",
    "        Chicken.total_eggs += 1\n",
    "c1 =Chicken(name=\"Alice\",species=\"Partrigdge Silkie\")\n",
    "c2 =Chicken(name=\"Amelia\",species=\"Speckled Sussex\")\n",
    "\n",
    "Chicken.total_eggs\n",
    "c1.lay_egg()\n",
    "Chicken.total_eggs\n",
    "c2.lay_egg()\n",
    "c2.lay_egg()\n",
    "Chicken.total_eggs\n",
    "\n",
    "\n"
   ]
  },
  {
   "cell_type": "markdown",
   "metadata": {},
   "source": [
    "# Deck of Cards\n",
    "\n",
    "Your goal in this exercise is to implement two classes, Card  and Deck\n",
    "\n",
    "Specifications\n",
    "\n",
    "Card \n",
    "\n",
    "Each instance of Card  should have a suit\n",
    "(\"Hearts\", \"Diamonds\", \"Clubs\", or \"Spades\").\n",
    "\n",
    "Each instance of Card  should have a value\n",
    "(\"A\", \"2\", \"3\", \"4\", \"5\", \"6\", \"7\", \"8\", \"9\", \"10\", \"J\", \"Q\", \"K\").\n",
    "\n",
    "Card 's __repr__  method should return the card's value and suit \n",
    "(e.g. \"A of Clubs\", \"J of Diamonds\", etc.)\n",
    "\n",
    "Deck \n",
    "\n",
    "Each instance of Deck  should have a cards attribute with all 52 possible instances of Card.\n",
    "\n",
    "Deck  should have an instance method called count  which returns a count of how many cards remain in the deck.\n",
    "\n",
    "Deck 's __repr__  method should return information on how many cards are in the deck (e.g. \"Deck of 52 cards\", \"Deck of 12 cards\", etc.)\n",
    "\n",
    "Deck  should have an instance method called _deal  which accepts a number and removes at most that many cards from the deck (it may need to remove fewer if you request more cards than are currently in the deck!). If there are no cards left, this method should return a ValueError  with the message \"All cards have been dealt\".\n",
    "\n",
    "Deck  should have an instance method called shuffle  which will shuffle a full deck of cards. If there are cards missing from the deck, this method should return a ValueError  with the message \"Only full decks can be shuffled\".  shuffle should return the shuffled deck.\n",
    "\n",
    "Deck  should have an instance method called deal_card  which uses the _deal  method to deal a single card from the deck and return that single card.\n",
    "\n",
    "Deck  should have an instance method called deal_hand  which accepts a number and uses the _deal  method to deal a list of cards from the deck and return that list of cards.\n",
    "\n",
    "\n",
    "\n",
    "\n",
    "\n",
    "\n"
   ]
  },
  {
   "cell_type": "code",
   "execution_count": 10,
   "metadata": {},
   "outputs": [
    {
     "name": "stdout",
     "output_type": "stream",
     "text": [
      "-----------------\n",
      "B of Diamonds\n",
      "Q of Spades\n",
      "3 of Clubs\n"
     ]
    }
   ],
   "source": [
    "class Card:\n",
    "    def __init__(self,value,suit):\n",
    "        self.value = value\n",
    "        self.suit  = suit\n",
    "    def __repr__(self):\n",
    "      return \"{} of {}\".format(self.value,self.suit)\n",
    "\n",
    "c  = Card(\"B\",\"Diamonds\")\n",
    "c1 = Card(\"Q\",\"Spades\")\n",
    "c2 = Card(\"3\",\"Clubs\")\n",
    "print(\"----------------\")\n",
    "print(c)\n",
    "print(c1)\n",
    "print(c2)\n",
    "print(\"----------------- \")\n",
    "\n",
    "\n",
    "\n",
    "    "
   ]
  },
  {
   "cell_type": "code",
   "execution_count": null,
   "metadata": {},
   "outputs": [],
   "source": []
  }
 ],
 "metadata": {
  "kernelspec": {
   "display_name": "Python 3",
   "language": "python",
   "name": "python3"
  },
  "language_info": {
   "codemirror_mode": {
    "name": "ipython",
    "version": 3
   },
   "file_extension": ".py",
   "mimetype": "text/x-python",
   "name": "python",
   "nbconvert_exporter": "python",
   "pygments_lexer": "ipython3",
   "version": "3.8.3"
  }
 },
 "nbformat": 4,
 "nbformat_minor": 4
}
